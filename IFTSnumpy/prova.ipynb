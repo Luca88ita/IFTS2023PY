{
 "cells": [
  {
   "cell_type": "code",
   "execution_count": 82,
   "metadata": {},
   "outputs": [],
   "source": [
    "import numpy as np"
   ]
  },
  {
   "cell_type": "code",
   "execution_count": 83,
   "metadata": {},
   "outputs": [
    {
     "data": {
      "text/plain": [
       "array([ 5, 25, 30, 40])"
      ]
     },
     "execution_count": 83,
     "metadata": {},
     "output_type": "execute_result"
    }
   ],
   "source": [
    "a = np.array([1,5,6,8])\n",
    "b=[1,5,6,8]\n",
    "c = np.array([1,2,3,4])\n",
    "a*5"
   ]
  },
  {
   "cell_type": "code",
   "execution_count": 84,
   "metadata": {},
   "outputs": [
    {
     "data": {
      "text/plain": [
       "[1, 5, 6, 8, 1, 5, 6, 8, 1, 5, 6, 8, 1, 5, 6, 8, 1, 5, 6, 8]"
      ]
     },
     "execution_count": 84,
     "metadata": {},
     "output_type": "execute_result"
    }
   ],
   "source": [
    "b*5"
   ]
  },
  {
   "cell_type": "code",
   "execution_count": 85,
   "metadata": {},
   "outputs": [
    {
     "data": {
      "text/plain": [
       "array([ 1, 10, 18, 32])"
      ]
     },
     "execution_count": 85,
     "metadata": {},
     "output_type": "execute_result"
    }
   ],
   "source": [
    "a*c"
   ]
  },
  {
   "cell_type": "code",
   "execution_count": 86,
   "metadata": {},
   "outputs": [
    {
     "data": {
      "text/plain": [
       "array([2, 5])"
      ]
     },
     "execution_count": 86,
     "metadata": {},
     "output_type": "execute_result"
    }
   ],
   "source": [
    "d = np.arange(10)\n",
    "d[2:8:3]"
   ]
  },
  {
   "cell_type": "code",
   "execution_count": 87,
   "metadata": {},
   "outputs": [
    {
     "data": {
      "text/plain": [
       "array([9, 8, 7, 6, 5, 4, 3, 2, 1, 0])"
      ]
     },
     "execution_count": 87,
     "metadata": {},
     "output_type": "execute_result"
    }
   ],
   "source": [
    "d[::-1]"
   ]
  },
  {
   "cell_type": "code",
   "execution_count": 88,
   "metadata": {},
   "outputs": [
    {
     "data": {
      "text/plain": [
       "array([0, 1, 2, 0, 0, 5, 6, 7, 8, 9])"
      ]
     },
     "execution_count": 88,
     "metadata": {},
     "output_type": "execute_result"
    }
   ],
   "source": [
    "d[3:5] = 0\n",
    "d"
   ]
  },
  {
   "cell_type": "code",
   "execution_count": 89,
   "metadata": {},
   "outputs": [
    {
     "name": "stdout",
     "output_type": "stream",
     "text": [
      "2 (3, 3)\n"
     ]
    }
   ],
   "source": [
    "I = np.array([[1,2,3],[0,0,0],[3,2,1]])\n",
    "print(len(I.shape),I.shape)"
   ]
  },
  {
   "cell_type": "code",
   "execution_count": 90,
   "metadata": {},
   "outputs": [
    {
     "data": {
      "text/plain": [
       "array([[1, 2],\n",
       "       [0, 0]])"
      ]
     },
     "execution_count": 90,
     "metadata": {},
     "output_type": "execute_result"
    }
   ],
   "source": [
    "I[0:2,0:2]"
   ]
  },
  {
   "cell_type": "code",
   "execution_count": 91,
   "metadata": {},
   "outputs": [
    {
     "data": {
      "text/plain": [
       "array([[6, 7, 3],\n",
       "       [5, 5, 0],\n",
       "       [3, 2, 1]])"
      ]
     },
     "execution_count": 91,
     "metadata": {},
     "output_type": "execute_result"
    }
   ],
   "source": [
    "I[0:2,0:2] +=5\n",
    "I"
   ]
  },
  {
   "cell_type": "code",
   "execution_count": 92,
   "metadata": {},
   "outputs": [
    {
     "name": "stdout",
     "output_type": "stream",
     "text": [
      "6\n",
      "7\n",
      "3\n",
      "5\n",
      "5\n",
      "0\n",
      "3\n",
      "2\n",
      "1\n"
     ]
    }
   ],
   "source": [
    "for row in I:\n",
    "  for column in row:\n",
    "    print(column)"
   ]
  },
  {
   "cell_type": "code",
   "execution_count": 93,
   "metadata": {},
   "outputs": [
    {
     "name": "stdout",
     "output_type": "stream",
     "text": [
      "6\n",
      "7\n",
      "3\n",
      "5\n",
      "5\n",
      "0\n",
      "3\n",
      "2\n",
      "1\n"
     ]
    }
   ],
   "source": [
    "for x in np.nditer(I):\n",
    "  print(x)"
   ]
  },
  {
   "cell_type": "code",
   "execution_count": 94,
   "metadata": {},
   "outputs": [
    {
     "data": {
      "text/plain": [
       "array([6, 7, 3, 5, 5, 0, 3, 2, 1])"
      ]
     },
     "execution_count": 94,
     "metadata": {},
     "output_type": "execute_result"
    }
   ],
   "source": [
    "I.flatten()"
   ]
  },
  {
   "cell_type": "code",
   "execution_count": 95,
   "metadata": {},
   "outputs": [
    {
     "name": "stdout",
     "output_type": "stream",
     "text": [
      "(0, 0) 6\n",
      "(0, 1) 7\n",
      "(0, 2) 3\n",
      "(1, 0) 5\n",
      "(1, 1) 5\n",
      "(1, 2) 0\n",
      "(2, 0) 3\n",
      "(2, 1) 2\n",
      "(2, 2) 1\n"
     ]
    }
   ],
   "source": [
    "for i,x in np.ndenumerate(I):\n",
    "  print(i,x)"
   ]
  },
  {
   "cell_type": "code",
   "execution_count": 96,
   "metadata": {},
   "outputs": [
    {
     "name": "stdout",
     "output_type": "stream",
     "text": [
      "(0, 0) 6\n",
      "(0, 1) 7\n",
      "(0, 2) 3\n",
      "(1, 0) 5\n",
      "(1, 1) 5\n",
      "(1, 2) 0\n",
      "(2, 0) 3\n",
      "(2, 1) 2\n",
      "(2, 2) 1\n"
     ]
    },
    {
     "data": {
      "text/plain": [
       "array([[6, 5, 3],\n",
       "       [7, 5, 2],\n",
       "       [3, 0, 1]])"
      ]
     },
     "execution_count": 96,
     "metadata": {},
     "output_type": "execute_result"
    }
   ],
   "source": [
    "for posizione,x in np.ndenumerate(I):\n",
    "  print(posizione,x)\n",
    "  i,j = posizione\n",
    "  # I[i,j] = 0 # resetta la matrice\n",
    "I.T\n",
    "  "
   ]
  },
  {
   "cell_type": "code",
   "execution_count": 97,
   "metadata": {},
   "outputs": [
    {
     "data": {
      "text/plain": [
       "array([[6, 5, 3],\n",
       "       [7, 5, 2],\n",
       "       [3, 0, 1]])"
      ]
     },
     "execution_count": 97,
     "metadata": {},
     "output_type": "execute_result"
    }
   ],
   "source": [
    "F=I.copy() #creo una copia della matrice (un'immagine)\n",
    "for posizione,x in np.ndenumerate(I):\n",
    "  i,j = posizione\n",
    "  F[i,j] = I[j,i]\n",
    "F"
   ]
  },
  {
   "cell_type": "code",
   "execution_count": 98,
   "metadata": {},
   "outputs": [
    {
     "data": {
      "text/plain": [
       "-1"
      ]
     },
     "execution_count": 98,
     "metadata": {},
     "output_type": "execute_result"
    }
   ],
   "source": [
    "I = np.arange(40000)\n",
    "I = I.reshape((200,200))\n",
    "\n",
    "I = np.zeros_like(I).astype(np.uint16)\n",
    "I[50:100, 50:100] = 100\n",
    "I[:,70:80] +=100\n",
    "I[:100:5] +=100\n",
    "\n",
    "import cv2\n",
    "cv2.imshow(\"I\",I) #.astype(np.float32)\n",
    "cv2.waitKey(0)"
   ]
  },
  {
   "cell_type": "code",
   "execution_count": 99,
   "metadata": {},
   "outputs": [
    {
     "data": {
      "text/plain": [
       "(183, 276, 3)"
      ]
     },
     "execution_count": 99,
     "metadata": {},
     "output_type": "execute_result"
    }
   ],
   "source": [
    "I = cv2.imread(\"download.jpeg\")\n",
    "I.shape"
   ]
  },
  {
   "cell_type": "code",
   "execution_count": 115,
   "metadata": {},
   "outputs": [
    {
     "data": {
      "text/plain": [
       "-1"
      ]
     },
     "execution_count": 115,
     "metadata": {},
     "output_type": "execute_result"
    }
   ],
   "source": [
    "#I[:,:,0] = 0 # tolgo il blu\n",
    "#I[:,:,[0,1] = 0 # tolgo il verde\n",
    "#I[:,:,[0,2]] = 0 # tolgo il rosso\n",
    "\n",
    "I[:60,:,[0,2]] = 0\n",
    "I[120:,:,[0,1]] = 0\n",
    "\n",
    "I[100:,180:]=[50,0,150]\n",
    "\n",
    "I[:,:,2]+=40 #vado a saturare il rosso\n",
    "\n",
    "I//=2\n",
    "I+=128\n",
    "\n",
    "I[I>255]=255\n",
    "#cv2.imshow(\"I\",I.astype(np.uint8))\n",
    "#cv2.imshow(\"I\",(I.mean(2).T).astype(np.uint8))\n",
    "cv2.imshow(\"I\",(I.reshape(366,-1,3)).astype(np.uint8))\n",
    "cv2.waitKey(0)"
   ]
  },
  {
   "cell_type": "code",
   "execution_count": null,
   "metadata": {},
   "outputs": [],
   "source": []
  }
 ],
 "metadata": {
  "kernelspec": {
   "display_name": "venv",
   "language": "python",
   "name": "python3"
  },
  "language_info": {
   "codemirror_mode": {
    "name": "ipython",
    "version": 3
   },
   "file_extension": ".py",
   "mimetype": "text/x-python",
   "name": "python",
   "nbconvert_exporter": "python",
   "pygments_lexer": "ipython3",
   "version": "3.11.3"
  },
  "orig_nbformat": 4
 },
 "nbformat": 4,
 "nbformat_minor": 2
}
